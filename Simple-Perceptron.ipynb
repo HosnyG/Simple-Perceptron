{
 "cells": [
  {
   "cell_type": "code",
   "execution_count": 266,
   "metadata": {},
   "outputs": [],
   "source": [
    "import numpy as np\n",
    "import matplotlib.pyplot as plt"
   ]
  },
  {
   "cell_type": "code",
   "execution_count": 277,
   "metadata": {},
   "outputs": [],
   "source": [
    "#get random 2d vectors (points) , with values in range [0,1]\n",
    "X = np.random.rand(30,2)"
   ]
  },
  {
   "cell_type": "code",
   "execution_count": 278,
   "metadata": {},
   "outputs": [
    {
     "data": {
      "image/png": "[encoded data removed]",
      "text/plain": [
       "<Figure size 432x288 with 1 Axes>"
      ]
     },
     "metadata": {
      "needs_background": "light"
     },
     "output_type": "display_data"
    }
   ],
   "source": [
    "Y = []\n",
    "# 2y-10x+2 = 0\n",
    "for i in range(len(X)):\n",
    "    if (14*X[i,0]-2)/4 < X[i,1]:\n",
    "        plt.scatter(X[i,0],X[i,1], c='r')\n",
    "        Y.append(1) #red 1\n",
    "    else:\n",
    "        plt.scatter(X[i,0],X[i,1], c ='b')\n",
    "        Y.append(-1)  #blue -1\n",
    "\n",
    "#x = np.linspace(0,1,100)\n",
    "#y = (-x*-9.080828402176234 -1*1)/7.434282973722352\n",
    "#plt.plot(x, y, '-r', label='y=2x+1')\n",
    "plt.xlabel('x', color='#1C2833')\n",
    "plt.ylabel('y', color='#1C2833')\n",
    "#plt.legend(loc='upper left')\n",
    "plt.grid()\n",
    "plt.show()"
   ]
  },
  {
   "cell_type": "code",
   "execution_count": 279,
   "metadata": {},
   "outputs": [],
   "source": [
    "# increment the dim to 3  (to handle the b)\n",
    "X = np.insert(X,2,[1],axis=1)\n",
    "W = [0,0,0]"
   ]
  },
  {
   "cell_type": "code",
   "execution_count": 280,
   "metadata": {},
   "outputs": [
    {
     "data": {
      "text/plain": [
       "array([0.50277011, 0.06144826, 1.        ])"
      ]
     },
     "execution_count": 280,
     "metadata": {},
     "output_type": "execute_result"
    }
   ],
   "source": [
    "X[2]"
   ]
  },
  {
   "cell_type": "code",
   "execution_count": 281,
   "metadata": {},
   "outputs": [],
   "source": [
    "#or just np.dot()\n",
    "def DotProduct(M,N):\n",
    "    result = 0\n",
    "    for i in range(3):\n",
    "        result += M[i]*N[i]\n",
    "    return result"
   ]
  },
  {
   "cell_type": "code",
   "execution_count": 282,
   "metadata": {},
   "outputs": [],
   "source": [
    "iterations = 1000\n",
    "for t in range(iterations):\n",
    "    noErrors  = True\n",
    "    for i in range(len(X)):\n",
    "        if DotProduct(W,X[i])*Y[i] <= 0:\n",
    "            W = W+Y[i]*X[i]\n",
    "            W = [W[k] + Y[i]*X[i][k] for k in range(3)]\n",
    "            noErrors = False\n",
    "            break;\n",
    "    if (noErrors):\n",
    "        break\n",
    "        "
   ]
  },
  {
   "cell_type": "code",
   "execution_count": 283,
   "metadata": {},
   "outputs": [
    {
     "data": {
      "text/plain": [
       "15"
      ]
     },
     "execution_count": 283,
     "metadata": {},
     "output_type": "execute_result"
    }
   ],
   "source": [
    "t"
   ]
  },
  {
   "cell_type": "code",
   "execution_count": 284,
   "metadata": {},
   "outputs": [
    {
     "data": {
      "text/plain": [
       "[-8.339251596812293, 1.6978631763629897, 2.0]"
      ]
     },
     "execution_count": 284,
     "metadata": {},
     "output_type": "execute_result"
    }
   ],
   "source": [
    "W"
   ]
  },
  {
   "cell_type": "code",
   "execution_count": 285,
   "metadata": {},
   "outputs": [
    {
     "data": {
      "image/png": "[encoded data removed]",
      "text/plain": [
       "<Figure size 432x288 with 1 Axes>"
      ]
     },
     "metadata": {
      "needs_background": "light"
     },
     "output_type": "display_data"
    }
   ],
   "source": [
    "for i in range(len(X)):\n",
    "    if Y[i] == 1:\n",
    "        plt.scatter(X[i,0],X[i,1], c='r')\n",
    "    else: #-1\n",
    "        plt.scatter(X[i,0],X[i,1], c='b')\n",
    "\n",
    "x = np.linspace(0,1,100)\n",
    "y = (-x*W[0] -1*W[2])/W[1]\n",
    "plt.plot(x, y, '-r')\n",
    "plt.xlabel('x', color='#1C2833')\n",
    "plt.ylabel('y', color='#1C2833')\n",
    "axes = plt.gca()\n",
    "axes.set_xlim([0,1])\n",
    "axes.set_ylim([0,1])\n",
    "plt.grid()\n",
    "plt.show()"
   ]
  },
  {
   "cell_type": "code",
   "execution_count": null,
   "metadata": {},
   "outputs": [],
   "source": []
  },
  {
   "cell_type": "code",
   "execution_count": null,
   "metadata": {},
   "outputs": [],
   "source": []
  }
 ],
 "metadata": {
  "kernelspec": {
   "display_name": "Python 3",
   "language": "python",
   "name": "python3"
  },
  "language_info": {
   "codemirror_mode": {
    "name": "ipython",
    "version": 3
   },
   "file_extension": ".py",
   "mimetype": "text/x-python",
   "name": "python",
   "nbconvert_exporter": "python",
   "pygments_lexer": "ipython3",
   "version": "3.7.6"
  }
 },
 "nbformat": 4,
 "nbformat_minor": 4
}
